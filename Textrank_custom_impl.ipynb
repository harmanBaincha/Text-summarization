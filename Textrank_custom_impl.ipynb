{
  "nbformat": 4,
  "nbformat_minor": 0,
  "metadata": {
    "colab": {
      "name": "Textrank_custom_impl.ipynb",
      "provenance": [],
      "collapsed_sections": []
    },
    "kernelspec": {
      "name": "python3",
      "display_name": "Python 3"
    },
    "accelerator": "GPU"
  },
  "cells": [
    {
      "cell_type": "code",
      "metadata": {
        "id": "T1jefDwEhMkz",
        "colab_type": "code",
        "colab": {
          "base_uri": "https://localhost:8080/",
          "height": 51
        },
        "outputId": "c8113af1-e81b-422a-e91e-b06298d80161"
      },
      "source": [
        "import numpy as np\n",
        "import pandas as pd\n",
        "import nltk\n",
        "nltk.download('punkt') # one time execution\n",
        "import re"
      ],
      "execution_count": 1,
      "outputs": [
        {
          "output_type": "stream",
          "text": [
            "[nltk_data] Downloading package punkt to /root/nltk_data...\n",
            "[nltk_data]   Unzipping tokenizers/punkt.zip.\n"
          ],
          "name": "stdout"
        }
      ]
    },
    {
      "cell_type": "code",
      "metadata": {
        "id": "QAHGcuztha7s",
        "colab_type": "code",
        "colab": {}
      },
      "source": [
        "import glob\n",
        "from nltk.tokenize import sent_tokenize"
      ],
      "execution_count": 2,
      "outputs": []
    },
    {
      "cell_type": "code",
      "metadata": {
        "id": "MmJ7mCqcqbIV",
        "colab_type": "code",
        "colab": {
          "base_uri": "https://localhost:8080/",
          "height": 68
        },
        "outputId": "f83511e6-a5a0-4365-ccef-5f6c6d26fe60"
      },
      "source": [
        "nltk.download('stopwords')"
      ],
      "execution_count": 3,
      "outputs": [
        {
          "output_type": "stream",
          "text": [
            "[nltk_data] Downloading package stopwords to /root/nltk_data...\n",
            "[nltk_data]   Unzipping corpora/stopwords.zip.\n"
          ],
          "name": "stdout"
        },
        {
          "output_type": "execute_result",
          "data": {
            "text/plain": [
              "True"
            ]
          },
          "metadata": {
            "tags": []
          },
          "execution_count": 3
        }
      ]
    },
    {
      "cell_type": "code",
      "metadata": {
        "id": "iI4-EFDNqeoT",
        "colab_type": "code",
        "colab": {}
      },
      "source": [
        "from nltk.corpus import stopwords\n",
        "stop_words = stopwords.words('english')"
      ],
      "execution_count": 4,
      "outputs": []
    },
    {
      "cell_type": "code",
      "metadata": {
        "id": "jhkO_-7N-KZq",
        "colab_type": "code",
        "colab": {}
      },
      "source": [
        "stopwords_new = ('h','−','given','p','z','w','-','use','selection','also','guess', 'price', 'house', 'repeating', 'four', 'n', 'times', 'create', 'n', 'finalized', 'let', 'say','bigger', 'picture', 'main', 'methods', 'avoid','go','together','several','com', 'built','similar','select','number','three','point','points','clear','well','shown', 'depicts','making', 'take', 'entire','accepted', 'salary', 'greater', 'commute', 'less', 'hour', 'incentives', 'offered', 'build','input','repeat','every', 'branch','estimating','done','commonly','uses', 'known', 'labeled','q', 'differences','value','steps','must','offers','offer','calculate','first','consider','usually','www','want','–','split','set','using','values','time','interview','mean',\"example\",\"means\",\"used\",\"two\",\"one\",\"k\",\"•\",\"λ\",\"sure\",\"like\",\"hi\",\"yeah\",\"um\",\"et\",\"al\",\"https\",\"http\",\"version\",\"org\",\"text\",\"x1\",\"human\",\"x\",\"b\",\"n,\"\"f\",\"-\",\"c\",\"e\",\"g\",\"da\",\"is\",\"a\", \"try\",\"think\", \"maybe\", \n",
        "                 \"actually\", \"everything\", \"right\",\"really\",\"share\",\"today\",\"going\", \"would\",\"try\",\"action\",\"setting\",\"meetings\",\n",
        "                \"thing\",\"sometimes\",\"image\", \"meeting\",\"label\", \"model\", \"working\", \"basically\", \"start\", \"problem\", \"mandy\", \"yesterday\",\n",
        "                 \"function\", \"great\", \"speaker\",\"minute\",\"update\",\"running\", \"monday\",\"thought\", \"sense\",\"based\",\"leave\",\"sophia\",\"nice\",\n",
        "                 \"good\", \"work\", \"stuff\",\"project\",\"kind\",\"guy\",\"interesting\",\"kind\",\"data\",\"user\",\"screen\", \"like\"\n",
        "                 \"leaving\",\"view\", \"idea\")\n",
        "for i in stopwords_new:\n",
        "    stop_words.append(i)"
      ],
      "execution_count": 5,
      "outputs": []
    },
    {
      "cell_type": "code",
      "metadata": {
        "id": "4ltKgOZJqjkH",
        "colab_type": "code",
        "colab": {}
      },
      "source": [
        "# function to remove stopwords\n",
        "def remove_stopwords(sen):\n",
        "    sen_new = \" \".join([i for i in sen if i not in stop_words])\n",
        "    return sen_new"
      ],
      "execution_count": 7,
      "outputs": []
    },
    {
      "cell_type": "code",
      "metadata": {
        "id": "SsYkBUT9l-CY",
        "colab_type": "code",
        "colab": {
          "base_uri": "https://localhost:8080/",
          "height": 442
        },
        "outputId": "710217f6-540e-4bb4-bf8d-63e26fe84b01"
      },
      "source": [
        "!wget http://nlp.stanford.edu/data/glove.6B.zip\n",
        "!unzip glove*.zip"
      ],
      "execution_count": 8,
      "outputs": [
        {
          "output_type": "stream",
          "text": [
            "--2020-08-19 17:30:11--  http://nlp.stanford.edu/data/glove.6B.zip\n",
            "Resolving nlp.stanford.edu (nlp.stanford.edu)... 171.64.67.140\n",
            "Connecting to nlp.stanford.edu (nlp.stanford.edu)|171.64.67.140|:80... connected.\n",
            "HTTP request sent, awaiting response... 302 Found\n",
            "Location: https://nlp.stanford.edu/data/glove.6B.zip [following]\n",
            "--2020-08-19 17:30:11--  https://nlp.stanford.edu/data/glove.6B.zip\n",
            "Connecting to nlp.stanford.edu (nlp.stanford.edu)|171.64.67.140|:443... connected.\n",
            "HTTP request sent, awaiting response... 301 Moved Permanently\n",
            "Location: http://downloads.cs.stanford.edu/nlp/data/glove.6B.zip [following]\n",
            "--2020-08-19 17:30:11--  http://downloads.cs.stanford.edu/nlp/data/glove.6B.zip\n",
            "Resolving downloads.cs.stanford.edu (downloads.cs.stanford.edu)... 171.64.64.22\n",
            "Connecting to downloads.cs.stanford.edu (downloads.cs.stanford.edu)|171.64.64.22|:80... connected.\n",
            "HTTP request sent, awaiting response... 200 OK\n",
            "Length: 862182613 (822M) [application/zip]\n",
            "Saving to: ‘glove.6B.zip’\n",
            "\n",
            "glove.6B.zip        100%[===================>] 822.24M  2.00MB/s    in 6m 27s  \n",
            "\n",
            "2020-08-19 17:36:38 (2.13 MB/s) - ‘glove.6B.zip’ saved [862182613/862182613]\n",
            "\n",
            "Archive:  glove.6B.zip\n",
            "  inflating: glove.6B.50d.txt        \n",
            "  inflating: glove.6B.100d.txt       \n",
            "  inflating: glove.6B.200d.txt       \n",
            "  inflating: glove.6B.300d.txt       \n"
          ],
          "name": "stdout"
        }
      ]
    },
    {
      "cell_type": "code",
      "metadata": {
        "id": "f9LSpTtWmAz3",
        "colab_type": "code",
        "colab": {}
      },
      "source": [
        "# Extract word vectors\n",
        "word_embeddings = {}\n",
        "f = open('glove.6B.100d.txt', encoding='utf-8')\n",
        "for line in f:\n",
        "    values = line.split()\n",
        "    word = values[0]\n",
        "    coefs = np.asarray(values[1:], dtype='float32')\n",
        "    word_embeddings[word] = coefs\n",
        "f.close()"
      ],
      "execution_count": 9,
      "outputs": []
    },
    {
      "cell_type": "code",
      "metadata": {
        "id": "D0g7GuPNmE5w",
        "colab_type": "code",
        "colab": {
          "base_uri": "https://localhost:8080/",
          "height": 34
        },
        "outputId": "e4cfd66d-228d-43ee-d92c-77f6e07f00b4"
      },
      "source": [
        "len(word_embeddings)"
      ],
      "execution_count": 10,
      "outputs": [
        {
          "output_type": "execute_result",
          "data": {
            "text/plain": [
              "400000"
            ]
          },
          "metadata": {
            "tags": []
          },
          "execution_count": 10
        }
      ]
    },
    {
      "cell_type": "code",
      "metadata": {
        "id": "ehoXsmryuMT4",
        "colab_type": "code",
        "colab": {
          "base_uri": "https://localhost:8080/",
          "height": 122
        },
        "outputId": "9a8e5734-29e6-41b8-8205-dc8211f94e49"
      },
      "source": [
        "from google.colab import drive\n",
        "drive.mount('/content/gdrive')\n",
        "root_dir = \"/content/gdrive/My Drive/\""
      ],
      "execution_count": 11,
      "outputs": [
        {
          "output_type": "stream",
          "text": [
            "Go to this URL in a browser: https://accounts.google.com/o/oauth2/auth?client_id=947318989803-6bn6qk8qdgf4n4g3pfee6491hc0brc4i.apps.googleusercontent.com&redirect_uri=urn%3aietf%3awg%3aoauth%3a2.0%3aoob&scope=email%20https%3a%2f%2fwww.googleapis.com%2fauth%2fdocs.test%20https%3a%2f%2fwww.googleapis.com%2fauth%2fdrive%20https%3a%2f%2fwww.googleapis.com%2fauth%2fdrive.photos.readonly%20https%3a%2f%2fwww.googleapis.com%2fauth%2fpeopleapi.readonly&response_type=code\n",
            "\n",
            "Enter your authorization code:\n",
            "··········\n",
            "Mounted at /content/gdrive\n"
          ],
          "name": "stdout"
        }
      ]
    },
    {
      "cell_type": "code",
      "metadata": {
        "id": "2ZpXVkK2hscf",
        "colab_type": "code",
        "colab": {}
      },
      "source": [
        "dict_req=[]\n",
        "for file_name in glob.iglob('/content/gdrive/My Drive/text_summ/*', recursive=True): \n",
        "    with open(file_name) as f:\n",
        "        dict_cont_org=''\n",
        "        for line in f.readlines():\n",
        "            name,conv=line.split(':')\n",
        "            dict_cont_org=dict_cont_org+conv\n",
        "#         sentens=nltk.tokenize.sent_tokenize(dict_cont_org)\n",
        "    dict_req.append(dict_cont_org)"
      ],
      "execution_count": 12,
      "outputs": []
    },
    {
      "cell_type": "code",
      "metadata": {
        "id": "cZ8yzKukt-6d",
        "colab_type": "code",
        "colab": {
          "base_uri": "https://localhost:8080/",
          "height": 71
        },
        "outputId": "53c5b8b0-8b7c-429e-9e40-a6d4a25b2e75"
      },
      "source": [
        "dict_req"
      ],
      "execution_count": 13,
      "outputs": [
        {
          "output_type": "execute_result",
          "data": {
            "text/plain": [
              "[\" M.L. A.B. I press this good man about yourself? Yeah. Okay. No worries. Finish? No. Uh huh. Uh huh. Is looking for something.\\n so Oh, uh, this you six. Oh, and this the state a bunch thing is driving us crazy. Oh, we got much. We got much closer yesterday, but now they're so Oh, it's asking for password. What was saying? Finish Yes. And purpose for no Still think. OK, you need the password.\\n There's no passport. There is. But we never needed to use it. No, it's actually just embedded in the link. It's It's this in the link already. Oh, is it okay? He says that the link is asking me a passport. Uh, okay. This is I can't open the pain. Think. Let's just give in the past or five and 70 to us. Were you very getting a test? It's Ah, it's on the zoom call. Uh oh. That's vessel twice. It's were kind of this weird.\\n There he is. Yeah. I don't know. Some of my pastor can't excessively actually connect for my eyes, so I can't access the pin slink Mary to share A.B.. Oh, like that CIA. Maybe that's why. Okay. Okay. So I, uh yeah, I was I was selling Francis that were You're having issues with saving images. Yeah, so they\\n closer yesterday, but the national census says that the images are like are not safe properly. It's like they do V.S. ghar you It's almost right just right and some more pillows and remember Ah yeah, that actually there is the one. So up to this point, I was thinking that image function that you're using in the get functions, actually from the P i l library, but it's from fast they I regional Ivers, So its a difference in years.\\n A.B. used up the aisle after A.B.. Then you told me to comment on. Yeah, just It is a different. It's a different type is saying to Yes, I'm gonna work out. Ah, okay. What if, uh, what if you use, uh, can you share your coat again and cool, Okay.\\n Yeah. So the\\n \\n Ah.\\n Yeah. So did you say, Did you? Did you do what I\\n \\n to save the image before before calling the image function in the gets method. Did you do that for you didn't like this?\\n before this.\\n job inside the get function before calling the image.\\n \\n Well, you're\\n ah e o\\n \\n okay?\\n Yeah. After come and converting it to tenser, I actually can We can do that.\\n so.\\n No, I just\\n \\n How can we come? But I know I have it somewhere. I can't remember it.\\n \\n How can we save in umpire image area and say because\\n number.\\n as an Okay, So do you have it? Their CV to I am right, so\\n uh\\n awesome.\\n is that?\\n on. This is the editor said with you? No, I just wanted to\\n action.\\n it gets me.\\n \\n way we should find out where where this change is happening.\\n \\n the tensor function.\\n like it's.\\n \\n if you know.\\n leave them. You think that's up to you because\\n It's just the me and the nationals working on this. So if you\\n or\\n doesn't national.\\n Yeah. I mean, I'm I just They just, you know, just out of curiosity, say yeah, OK. Yeah, I just I just didn't want to waste.\\n \\n so maybe like this, But then I think that in that so\\n \\n \\n Yeah, because you're passing it as a bad rate and in your own words.\\n sold.\\n \\n \\n Okay, so print, print, print end before that. So? So that we make sure that\\n \\n \\n Oh, our duty that we can do with Ford.\\n If you think you can do that, that's that's why I actually just like before the call.\\n do that. I didn't find many links, but\\n I mean, it's so\\n if you If you think that's the way to go, maybe you just want to spend some time on.\\n Yeah. I mean, that was a guess I\\n and\\n that was just a guest. Like you can do something.\\n Aiden's.\\n you need a man.\\n or something like death.\\n \\n uh, go to class.\\n because it's calling the yeah.\\n Uh, yeah. Most of the way, the initial.\\n at the end of no, that that's that's the second function.\\n that's\\n support.\\n \\n yes, with\\n \\n uh\\n \\n 01 other thing that we have you.\\n huh?\\n Okay. What's the image?\\n okay?\\n three BIST 96 by 96 over, It's the other Way round 96.96\\n it's.\\n So what? Okay. Should be it should be three.\\n well done. It did died if I was three closer and defects before, but there\\n the what I shared with you, so they\\n make this.\\n when that was over her size.\\n third.\\n also when I kept it three Trust and Regex less and Regex. I couldn't see the image like this.\\n \\n so maybe for saving, you need to permeate the game because that's they.\\n That's okay, let's let's go back to the other. 13 by 1969 90 season, therefore saving.\\n have you had to do it?\\n so get you done supposedto.\\n but by Adi.\\n be positive.\\n \\n I don't need.\\n the only every get is. It's been saving here.\\n yes.\\n with a D. A.\\n tonight? No.\\n \\n it's a\\n \\n How could you permitted that? Okay.\\n \\n \\n I think this 1976 is from.\\n \\n okay. It's before that time. So this'll is just one imagine and not live like the mini wretch, so yeah.\\n \\n \\n \\n but this\\n No, they\\n conversion to bash is done in the data Loader. Not not here. This is actually this is at the data data source level, so it zig\\n So we have data, said Data Loader, and then data Barnes and Data Loader is actually just doing.\\n \\n \\n the data.\\n \\n \\n Okay, I say have done leverage. I don't know where it could see. Okay, so I was able to save their words.\\n for the\\n \\n something, just for example.\\n \\n that's the tallest different thing that\\n we're not able to see.\\n \\n but first a gloves off.\\n \\n are visible.\\n you screw?\\n the basic takes is, and there seems to be something wrong with your death of eggs up in the first.\\n \\n \\n Okay, you\\n \\n uh\\n \\n \\n No, I don't think it's actually I don't think Did you also have this line from print A town they?\\n yes.\\n then maybe that's the one that's with that's this.\\n Yeah.\\n and this sizes.\\n function.\\n So what's happening there?\\n \\n maybe maybe remove that line that inside the get function that's writing to an image.\\n city to\\n \\n Yeah, just\\n okay?\\n \\n \\n so.\\n So now you're this like you don't.\\n Shabelman.\\n is it?\\n So I load the redoubles. I okay?\\n really zero.\\n it's that.\\n it saved, okay?\\n look.\\n So this is very this is you.\\n \\n Yeah, okay.\\n they thought this all conditions.\\n these are imitation.\\n But that's that's not that the augmentation is not. The issue is just like.\\n \\n now the transfers. So if you don't transfers, what's happening but the mid sized?\\n \\n the let's see the image says is not the same thing.\\n because off removing the Trans.\\n Pandas.\\n application.\\n heaved.\\n \\n a bit of\\n but with immense size is nine digits. Nothing you're supposed to be wherever. Getting this. Okay. Can't. Can you? Can you go back to\\n okay?\\n uh\\n I'm just guessing that for some reason.\\n okay, Lets just tied the shape of the tensor inside the get function. So instead of in that shape, just just move that in that shape to the law.\\n just contact, Yeah.\\n here.\\n \\n Okay, so maybe the image file the image function does something.\\n so just\\n uh, can we get the dimensions of\\n uh, so do not\\n so I don't know if there's.\\n if that data single image, I think we can.\\n No, I'm just asking. What does it have? A shape? Contributors Dimension. What is it?\\n \\n in here.\\n \\n \\n \\n \\n \\n \\n \\n A.B..\\n \\n \\n \\n I didn't. You don't, okay? No, Just just start image. That's, uh yeah, I remember image that data.\\n Yeah.\\n \\n no images.\\n shape.\\n I removed the\\n Are you kidding me? Is the same.\\n Yeah.\\n \\n and for some.\\n What is this part of the So what is this? That is really does zero and\\n offered.\\n uh, can you Can you do that before saving? After creating the data The same thing this copy paste.\\n Okay. Oceans? Yeah, that's still empty.\\n \\n \\n uh\\n What were you doing? It? Nps area. What is that? Just just print. Exe.\\n I think that was a cue for side.\\n N.L.P..\\n I want to make sure it's actually.\\n \\n \\n \\n \\n and it's 96 plane 90.\\n \\n Okay, So what? What's wrong? Okay. Can't make maybe you're doing something in your other.\\n because everything\\n okay?\\n okay. Just just tight and\\n Uh oh.\\n it's just still.\\n \\n \\n maybe so.\\n \\n because you're using trail died, orders school down.\\n \\n okay? You don't in the show?\\n matched only.\\n \\n because just just print it, just creating yourself. Just print data like trained.\\n no date data point that's trained Yes. 00\\n \\n or you're just you.\\n \\n \\n do your for.\\n only late.\\n \\n that's the\\n days, okay?\\n Oh!\\n four.\\n \\n maybe Dad.\\n \\n \\n \\n we have a lot of that.\\n \\n \\n life.\\n \\n \\n we just Florida for?\\n to see how it looks.\\n Dennard.\\n \\n but he was giving the\\n okay?\\n \\n \\n just copied from your other see far you.\\n \\n call me.\\n \\n \\n for I am. So you just need\\n thing you want Don't even you're using You're using. I am sure.\\n we weren't or you on the floor.\\n Yeah.\\n bloody.\\n \\n So if you are a party you didn't needed fire them. Oh, it's it. It's a George. Just needed to Yeah, that that's okay. Just, uh, from the other one.\\n Ah.\\n you can't go.\\n Yeah.\\n Yeah.\\n for him.\\n Actually, it's not.\\n that's that's an image in it. You need to just stop.\\n \\n and then that's.\\n \\n \\n No, this enough.\\n \\n \\n Ah, so\\n what's happening.\\n uh\\n \\n but I had really\\n so. And I do zero. Okay, I s O that that happens in\\n \\n uh, you\\n \\n \\n Can you do the same thing? It Oh, I should know we can't.\\n \\n Ah.\\n \\n \\n uh, let's let's do some research. I\\n \\n uh, we're we're so close, but\\n game.\\n Ah.\\n really.\\n E.\\n so bad it will.\\n \\n \\n \\n \\n \\n Ah, uh\\n \\n \\n \\n \\n \\n \\n \\n \\n \\n \\n \\n what's happening.\\n \\n you do dizzy around the first.\\n talk.\\n \\n \\n \\n \\n \\n \\n \\n I think if the image is a proper\\n the leader did are disposing in it. OK, go. Yes, Go ahead and see. That's it. It's weird, but let's just do it.\\n \\n the raids. Let's see that. So this first.\\n Yeah, this is no time.\\n on.\\n \\n one.\\n so.\\n it's used.\\n \\n \\n okay?\\n \\n Let's see a Dingle and sell it on. And if I\\n V.S..\\n \\n Okay, I will try to look more into that issue which show bash. But at the same time, you try what you're just trying to do. Yeah, You know, these will be in touch because it's weird, and I shouldn't be like that, and it might be.\\n look similar.\\n I will look into death and try to see if I can say we will see the M.L..\\n emergency if properly inside. Of course. Just need that. The more risk and really using those images. Yeah, ok, Yes. Yes, do that and we'll be in touch. And Francis are is still with us or Really? Yeah. Okay. Do you or something? If you're not doing anything else, Do you think you can also look into this?\\n show batch.\\n into, Yeah.\\n I'm gonna do it too. But like two brains are better than\\n Yeah. Fair enough. Yeah, I'm not really doing much.\\n is good, okay?\\n so I guess, uh that's for now. We've been\\n and good. Thank you.\\n\",\n",
              " \" So why? Hi. Hey. How are you guys? Good. How are you doing? You know, bad. I think that people know. And I think I should should join because I was not a dream. It's trying to I don't think she areas That's no well, higher nobody. How about yourself? I'm good. I'm good. So you guys all deserve a challenge for this week? Very. Yeah, just your dough. You have to come up with different challenges for the new court. Is it? Yeah. Uh, I guess a lot of people are copying stuff on may be pumping.\\n I still don't know how good a cop it. That's one thing we need to figure out. Actually, I think maybe the challenge was already been done on line. And then they just, like, copy. Basic. I could be it. Their exact, like a G toppings from challenging him. I know. Maybe Yeah. I mean, I called Accent. Yeah, the corner there are Get up. Like for food. 101\\n when you don't remember the names. It was food 11 Was there pretty cool? I thought. Get touching them. Make sure you inside the shares a problem with connection. Yeah. Okay. So what the that's going to be No, The message. Yeah. I just said whether you're venting squeezed, running back e have made, like, a few more minutes. Ah. Is joining. Isn't there supposed to be pressure?\\n Yeah, that's what I want. It was easy here. Still, I'm not sure. It seems like some people might have dropped or something because I've not heard by Heard. Like anything from them? I don't know. I responded Lake on Saturday or something. I vaguely remember seeing this, like it responses to give you. Yeah. You know, he kind of just, like, appeared 1st 2nd and then just liked it in the superego. Didn't tell like that with things like, Can you really convicted for Boston?\\n he was working on watches, you know? No, I'm actually looking at the pool. It seems like other people also have assigned themselves. So Steve Sharia, myself and wanted our Regex find, like, some of the city house. So he is busy bills. Which one's which? This is you. Um, the Euros. For now. Okay. Yeah, that's right. Oh, actually, I don't regret Simon's is almost there.\\n I don't know if you check out the bullshit the Excelsior that they had, but But I add a different attributes and then is doing some sort of, um I'm distracting it now. Okay, I see you have, like, a mnemonic name there. Okay. What is it? No. Oh, okay. Different. Have you been reassigned? Oh, are you still with the umbrella group? No, I'm still with them. Blue. Okay. The witch project. We would like to work of doctors or density. You see the whole of the channel. Oh, no. Uh, just give me chicken. I think I can book on BCG. Okay. It's on yourself. Okay? I was thinking for V.S. it for now. Um, I'm already assigned Monnet to task. I could assign a similar task, but only instead of kind back, I would choose. Um, it's different. Maybe. Maybe. What many either shoes that you worked with actually up. So you work with Butch\\n Yeah, Okay, but it com soled shoes with me. We'll probably explain it later to Pasha to what we're doing. Yeah, but like, other than the data said, how about the other task? Because the Simon's having been somewhere crazy. Uh, I I don't know, actually, but sign me, so I was hoping you could Or maybe JP is not here. Okay, then you could, if you could update me on, that would be good in the latest was like the last time we met, Uh\\n Friday because I think it was decided they were not much discussed. 17 admit. So the last meeting was Thursday. I remember J P. Working. Ah, on the PyTorch card. Uh huh. OK, so he made some progress, but I don't think Oh, it's a senator. Okay, then I have to be check the Dupee and then maybe start on that. But I do have, um I was working on the textual side of it. I trained it for more, but make maybe I can give you an update. Labor.\\n you can get people stopping. No. Okay. Actually updated. And just one thing the car for, like, Oh, for two nights, mates. Tango, the solution. I didn't know that. So I think you guys that I don't know. I think like Steve. Like, Agreed to take that later on the doctor's part. And also, um, Sofia guys taking the late on This is your park. So you guys can update like I check on the latest. Yeah, I BCG.\\n I think mostly would be what we've done already.\\n on Friday and if we could do.\\n reports said Britain. It I don't think would be more than okay. Yeah, anyways.\\n my version. Pretextual decision, Uh, or maybe 10 Maury pumps.\\n one year.\\n you.\\n the number of boxes pretty slow. Um, and it's not changing much. The after 10 plots. Um, this 40.\\n percent of global, uh\\n not useful and it's pretty slow because\\n have to be small.\\n right again. It was this time. Gown came out and dresses and they used to be 55%. So I don't see much of change honesty. After 10 you punks, I would probably use the older model. It would be just similar. And again there's little review. See politics. But this\\n So what does?\\n so previous model was based on.\\n based on this model.\\n Okay, So after one freezing for the first time around, adjusted three box. And then those were the results that you saw before the Fridays off the I had him on the slights. I don't know.\\n there is.\\n but after or during the weekend, I trained for 10 morning box.\\n So after on phasing, which is my, uh just this one that I showed you there was there was no\\n well.\\n And this. Any questions? So how hard you checking? Like the lost all gather there? Yeah. Um, so the summer I'll take about one hour each park, and this is so I did this five twice. So the one that you see is eager to buy the factually from 6 to 10. Um\\n percent and now it's still 40% but went up 41% after 10 point went to 41% from what I.\\n \\n this thing.\\n \\n look at.\\n eating.\\n \\n so.\\n really the model becomes, but I don't remember within the past a second part of the first part, but the model becomes better if you feed like a sentence, but\\n reversing the order so\\n a simple example. I played football.\\n you know, you reverse it, then treated and so\\n I see if I can find the North.\\n I think I know what you mean, But, um, here's the\\n more training because I'm happy with the results. That's\\n I'm happy with the results of having with the results of, you know, dresses with Come up when I look for dresses is a pretty similar, like before. It used to get shoes or different, different kind of unrelated a non threshold movie threshold. Need some working? But I don't think that even like backward that you're mentioning. You have that much effect on in better itself. Um, because because I am using day in better of it, very not not being actual up for the sentence.\\n I think I guess I'm kind of happy with that so far. But the only concern would be looking up for Blue can't pick up a good similar color, says the context.\\n a bit different.\\n so for this has mentioned before like we need some sort of RG A.B..\\n um\\n \\n direction.\\n well, what is like the corpus of colors you have there? Do you have, like, let's sing A.B. blue, for example, or someone?\\n I don't have made people, and that's what we were discussing before, so name.\\n this is.\\n so blue like it comes up color. At least say That's what I mean by context, but Navy has to do with or, I mean unable. So there's no Navy blue and I can't do in a space in here.\\n doesn't. It doesn't have it. Probably so that's why it doesn't so there is no\\n Well, one thing that it creates do like I know till at all Green Maybe black There. Is there more. They're much closer to blue them red, yellow.\\n but I knew it. Gray should be higher. Green should be higher. Um, then read pusher and joined. That means it's not picking up colors, which kind of makes sense, because when we're feeding text.\\n during connection of those colors. You're just considering of these in colors. Great. Yes. So rgb vector spaces missing. That's what I mentioned eso. Maybe we could have, like, a different kind of pleading in distance or when its color on then go but Docker\\n Well, what do you mean, Like\\n is missing, so there is no connections. The model can't pick up with us close to blue. It just pick up picks up on the context itself. So blue is usually used in when we're talking about Connor, so instead\\n relevant. And I think when it comes down to, um, the similarity of these when red is higher, it's probably used when they talk when in the text talking about blue like\\n Indo sentence.\\n so some atomic sense like this. This is a good job for model, in essence, that it picked up on colors, but to make that connection, there would be.\\n kind of RG V.S. space because, like blue, we can consider, you know RG being zero.\\n um, from 152 to 50. Pixel wise. Right? So some sort of\\n \\n So you're saying this like the response that you're getting here. It's just based on, like how often they are kind of appearing together in the data.\\n But there's not much of data that we can find out the colors that are going to be kind of related. That's why I mean, we need trg V.S. face, Um, was honestly, like when talking about text you can pick up blue vs green or black, you can pick up on it.\\n revalues.\\n is there is earning like a data for collars that we can like fitted to them all.\\n but some sort off like group data. Then the mother gonna pick up. I don't know blue, like navy blue. Like, I don't know, Didn't black or these things that kind of like\\n kind of data. I don't know if it would be anything available, but maybe if she could make comments on that because of the more fashion purposes.\\n eso HASA saying, instead of creating a different but instead of coming up with.\\n to make the connection between colors. If we could see data that are that it gives the context of blue being related more to black or green or whatever. Navy, blue, um red or yellow would be.\\n but you won't get, uh, you know, the color feel kind off.\\n what? What you will get is\\n like the core current.\\n Ah.\\n if if you If you If you have, like blog's saying wear a black shirt with blue jeans, you will have a higher relationship between black and blue because of that, but you want.\\n \\n white.\\n you want.\\n with what?\\n I need. Exactly. That's what I would want. Yeah.\\n \\n dad.\\n \\n Xcode.\\n who is going to require hardly where you find an equal number. Order sizable. Like, you know, that secures using 1.2.\\n ah, 100,000 sentences that\\n describing the color wheel essentially like black plus Blue Black Company combined. Blanken, like the exact structure of the sentences like combine black and\\n Why? From grain to give black. So if you have something\\n maybe.\\n I don't I\\n hard to, you know, my create and I don't know if they exist, but\\n something more.\\n was, uh\\n rgb spectrum, but that you also have to think about because, like audio map Docker in Who.\\n dimensions. You don't have three of this.\\n \\n does everything.\\n room. Yeah, in terms of architecture. Uh, I was thinking about something, but I don't know.\\n \\n more.\\n on how we go about this.\\n \\n There you go. Yeah. I mean, like\\n right.\\n Yeah, yes, but that's\\n \\n \\n Yeah.\\n this one.\\n so as hospitalization before somebody's Don't open and I\\n the art Jake Exide, because the extension, um so\\n who\\n it cost if you could give me, like, the highlight of the ones that which one which they didn't.\\n it's the victim.\\n Actually, I don't exactly remember because I don't know if you check the clothes.\\n have you run it? Yeah. There is a place that I'm reading this yesterday. Finally, yes, that.\\n then you see if I turn those values from 0 to 12 because this is right.\\n some error, Uh\\n \\n well.\\n Yeah, it was not the missing one because I think I filter out.\\n Yes, so\\n I opened the link. It is opening, but there were some errors. I I didn't spend much time. I need, like, honestly.\\n \\n go over, it's not.\\n \\n the foremost around it, and that's a place like him you can like, give that.\\n sure. Yeah. So after 13 would give.\\n probably.\\n Okay, so this one gives\\n perfect. It's warm.\\n I will look into this.\\n it may even be the next one because it\\n thing, Yeah.\\n it'll be number.\\n you can just print out, out, out, like, just to make sure, like\\n \\n but that fun is working. That's right. Yeah, that's working a lot of work going above that M.L. Herschel.\\n all right.\\n But I mean, if it thes ones opened and that's great because they don't have any, well, they kind of do that.\\n offensive problem honestly, like Oh, for some reason, it\\n UK.\\n that is a recurring error. Then it is likely that that is a bad image in which get just check with the Syria about, like some fighting package installations that you need to do to make it work on. You can follow that. The empty image getting No, no, no. Uh, if if something is not opening, it might be.\\n W B image, not a dipping. So if it's not a bank, a pillow won't open it like billboard. Open it. So you'll have to install a reinstall bill with some extra dependency on God. I think Syria has that todo mod audible chair. You think that those okay, but yeah, there is also looking to this area and see if that package would help up. Uh huh. It may not be necessary. Why don't you create it? So if you're getting another, like, like horses saying you're not able to open it, uh, on, like, you have a link, then try running the AMG. Actually, our model on data tell you what type of failure looking at? Sure. Yeah. Sophie l said that idea about that color thing that I wanted to share with you Sure, Yeah. So So I was just thinking, like, why not directly for the colors. Just used the RGB electors as a measure of similarity. So that doesn't know another. Um, yeah, that's what I was thinking to. But then you have, um I mean, it makes sense to do it that way. But then I was thinking what it's a user would look up for some sort of color that we don't have it fiction area, whatever the value, argue yard Argenis that were collected. But if you don't have a, that's the problem anyway. Oh, I mean you still you still can show the user something close to that. Call it rate rather than just giving an error, that this color doesn't exist but that you need some extra stuff. It will throw another at the moment because it's not a label right now. But in the future, yeah, that that is an area that would be nice to work. But I assume that the we can cover like most of the colors, right? Like so be beating your corpus operable colors that includes, like, I think many colors and the fashion products have. Yeah, I think I mean more than $10 nearly goes into the specifics, right? So most people think in terms of a crayon box of colors like that\\n search for colors well in hand. Like I had up to 25 labels. Well, maybe 23. One of them was my feet on. Yeah, the Yeah. So one of the ways multi that I adapted and another one was the ones that I wanted to remove them, you know? Yeah. 22. 23. We're hanging like like that's That's a basic set of colors. Like anything more than that. You really begin to Western whether you know, it makes any sense. Because, like, the ordinary, how I think of it, like the ordinary person who's searching for colors is burnt, like, really only stick toe the primary colors, plus black and white or secondary brothers Green orange M.L. Yeah. Yeah. So there's one that want to try. But how many countries did you have for your shoes? Well, you had a multi thing. Yeah, I had, uh, so many try hard. About 37. Okay.\\n like or normally label like on platform the but 16. Okay, that's very so, like 16 colors. You can you can keep me. I mean, you can even like beard, like 100 labels with 16 colors seem to cover it. Oh, good, Excellent. So stuck with that showing like other problems because it was Marty label. So besides that on the back. But you know, one thing, your feet might itself have some modules that can terrain and, like, just coloring itself like what they're basically saying.\\n frank the colors based based on the senses. So that's what I was thinking. So adding that part of whatever similarity that we get no way would consider those ones or specifically colors in terms of material. Oh, they the most. The similarity among them would come up better. So that about like, the problem that I see was just specifically on calories. That was the main issue. That's what I was thinking. But how we added Texturally city.\\n this shouldn't beat up. Shouldn't be that complex if it is captured in the Ulan Fit model. So it's gonna be easier, right? Because we can indirectly discomfort things, like other other types off the oh, the material India Once that you mentioned because for colors from the vector, space has been considered like it should be considered. But but yeah, but for material, we're not doing that. So you have to do with whatever you all if it is detecting. Is that what you meant? Yeah. Like, have you checked? Like, if you're\\n um, specific. There any modules for colors? It might have. I'm not sure. I don't think so, But I can't, because the way it trains just the problem with that is doesn't capture some off the distances correctly, right? It doesn't take into account the RGB lectures. Basically, it doesn't have the information like either in the data set, um, or just the model itself. But I've seen like there should be some module that it might have it like, let's say you M.L. if it can be take, like if it is a color or not. Right. So if that if it can detect that done Oh, it should not be that hard for the model to understand the RGB director. But But listen, the way it picks it up is it has to do again with your data and how correlated thes naming came up to get so like blue and red was more frequent and seeing together from model perspective, then blue and great or green. So it technically doesn't understand that these are color. It just said these air lately because they exactly so So maybe maybe no, like we can like trying another your lymph just only for the sake of colors. Then that's fun. Just like a a crime. Come based on the distance, as you see. But then again, it comes down to the what you mentioned about just color data and the corpus of it being specifically colors. So, yeah, that's one way to do it. And there's another way to do it with the, um, Argenis space sector. Yeah, actually, if you could just start search about that, I think there should be using ah, for methods of doing the other people. Probably don't put it. I'm not sure. How does the birth hair, like maybe parking and with Ueland fits? Um, does it recently or maybe people let you. Are you have something really specific about colors? The model it is going to learn, like whatever the model is that is going to learn only what the data has. So based on that echo of current, it'll see. But that just means looking for a very culture specific date back more than anything else. And I don't know if those exist, you can create it, but, uh, I don't know, like whether the time cream will permit. So, um yeah, just give you a\\n you'll unfit. Loss is just, um it's just like a pre trained text space in some sort of that has some sort of architecture of itself. Oh, using I don't know, L.S.T.M. transformers, whatever date with every bit. So that's what I mean. It comes down to the data itself Then then the model, Yeah. So basically now briefly summarized, you have to approach is right. If you have a colors data than just like training on Nuland feet and hope that it can pick it up or just like use RGB.\\n Yeah, true. I think rgb vector is more promising. Uh, and it's more doable. That's looking for those other data would be just another headache. Exactly. Because we all know we have the vectors that right? So you just covered them to RGB, and then you just check like, oh, oh, how calls there are. But that's a group resembled. Yeah, that's my primary approach anyway. No, I literally believe it. Yeah, anything you know recorded that mapping from three dimensions to 7 68 NumPy. Yeah, I know what you mean. Yeah.\\n any deal thing that or whatever the diamond, I don't know how many like the embedding length of your land. Yes, that's that's very long. So you have to match it exactly to that letter so that we can do like this subtraction? I don't know, if necessary. Yeah, because he just wanted comfort. Ah. Then it just going to comfort the RGB off the colors. You don't. You're emitting a space itself. It would be like the argie director for that for the particular colors. Okay, I guess you'll have to think about this. Okay? I'm\\n you'll need and incorporate this second grieve way off looking into colors that you can keep it separate and if it's only for the city than it's fine. But if he wanted to incorporate that and do like the actual search model, then be definitely need that kind of mapping. Yes, search model for sure on. I'm trying to focus more on that. This is used in the search model, but I see advantages that they can bring to get, but it needs more development on that side, for sure. But exactly. I was also thinking about the city stairs, and then you just stick with what you're doing. We know that. What's the other thing? I don't think it will be too much. Yeah, I I'm not sure. Like Hallway. Exactly. You do that, you'll have to start some bad, but, uh, you know, maybe like a Pantone set off colors and and see what what the heck scored for? Each color is then go that way. Maybe. Yeah, maybe hex or Well, yeah, well, im sale in the face of, um, finishing that kind of like blind that I would bring New York gene either\\n wait. That that's for sure. Okay. Um, yes. Is there anything else that no good? They are. Oh, Doctors. Yeah, given up eso Dockers. I'm during true things. The first thing is, ah, I'm trained the model on the dirty label. I mean, the labour before we cleaned, uh, with a balanced away balanced the horse. Andi, After during that, I'm going to my decision then and compare the disagree with the, uh, with a claim label model.\\n through the whether the label improvement in the performance This is actually where we're going to do in the last Friday. But we missed some problems. We haven't achieved that. So I'm going to do this today. And another thing is, uh, I'm using the Rend is no book off after scores to analyze the labels. And I'm I'm training that, um but I met some problem.\\n this one. This one. I got this one. We can see the accuracy is\\n and or is it okay or can I Should I continue to do the model together? Labor wise statistics? Or should I like tuning something and try to increase the accuracy? And another question is, we're the closest Thresh means. I mean, why don't we just use accuracy that is dad off using the Yeah, the actual sees rash. Can anybody and I is anybody. Does anybody have some ideas? Well, that\\n threshold. I haven't used it before, but\\n like be the rice industry, too.\\n like that water there. Uh, Sofia and Monique. Do you guys have any idea about that? Brand is suggested that you work down.\\n because this is a\\n it was more yes, the the multi label 12 tree arrested at 15 on the biggest that and together statistics.\\n school up just a bit. Yeah, okay.\\n long. Okay? I think I actually didn't do accuracy official.\\n threshold is.\\n metrics.\\n validation said on that point.\\n Depot ISS.\\n I think maybe 20%.\\n on the 20%. So, like whatever official, you get 80% enough for predicted ones or be validated ones that that's what you see. The actresses threshold four. Um, but it But I'm not sure that makes\\n zero do? Yeah. And how about this save model Called back and check the source code. It was saved.\\n photo right?\\n Yeah, but I didn't see the but, uh, he will save.\\n \\n these photo, right?\\n but I didn't.\\n Yeah, you can see the or director raise data and I go to the data. I didn't see the motto. Yeah.\\n \\n fresh.\\n Oh!\\n \\n she school down. School down? No, they're all modified in July and the latest I should be more.\\n \\n Well, anyway, I've seen I could say the more.\\n But here's the thing. What this one is doing, it's just saving iPAQ for parkway like Do you need that or because you're your time?\\n There's just 23 minutes. Yes, yes, Parker.\\n but I'm\\n what you are.\\n on learning.\\n because, Yeah, it looks terrible. This eyes, even more people.\\n \\n What did you guys got?\\n I don't think.\\n What time does not special? That I remember.\\n A.B..\\n \\n uh\\n V.S..\\n Uh uh. Yeah. Uh uh.\\n find do is.\\n \\n Yeah.\\n it's because of data.\\n here a couple of suggestions.\\n you know, if you\\n I I don't see any training pre unfreezing. So, like you just unfroze it and then start doing running it. What I did, I think I did maybe five p pots.\\n freezing.\\n okay, then I would look for the learn learning.\\n uh\\n I think I think.\\n for once.\\n \\n you had it on.\\n Yeah.\\n maybe you could finish your\\n No, that's\\n and, um\\n my plan is so according to the Friday's results, the decision shows The Weighted Lords for coefficient off 10 is a master model, but just based on the STG, we don't know the model.\\n work.\\n \\n did a 10.\\n with work, Yuri The motor Well.\\n and that will conduct.\\n actually one.\\n \\n what you're saying.\\n I'm just say.\\n number way, didn't it? So the numbers that check was like\\n \\n and then hung grabs like\\n Yeah, we thought that that was too big. Probably just like a, uh, sounds Somehow is too much of a regular.\\n Evan and check like, let's say, 20.\\n \\n those ones even increase, like the haven't found that.\\n uh, you know, we need more data. Points like to see him. Oh, to see, like, how much improvements weekend? Because the improvements\\n or, like 15 or charity or something like that, you know, you might get\\n Oh!\\n that just sounds like to better understand.\\n I would try more coefficient.\\n that's also grilling A.B..\\n something like old.\\n like a woman.\\n mixing the labels you saw the\\n \\n can you also check? Like your version of, uh, Docker is levels labels with the version that I was that?\\n Boto-three.\\n because I understand, like\\n right? Yeah.\\n and how did you mix them like what is the proportion of each, like the dark curtain Levi's like in the final?\\n on Wrexham.\\n you remember for me had some common ones from both some, like unique from Docker some\\n \\n So I think if you could just give those aesthetics is also like a current lead and that be nice. And also like a Why for you is like 50 more. Is it just because\\n \\n earning leg well.\\n A.B. because\\n Xcode is 50.\\n and I played I just make sure that you're in this.\\n that now. Oh.\\n I haven't.\\n \\n Yeah, 50.\\n three words. That's what Did you remove the\\n once you changed it to 50. Don't know many in 11 words gonna\\n you.\\n every look. Can you look at your day?\\n Yeah, sure, maybe more.\\n This is the bomb.\\n I think this is, uh\\n \\n I think I think this is.\\n reason he didn't want 50 because it was split this one. This was played to the binding.\\n \\n school down.\\n you know. Why is that different from like a warning?\\n What? This is why, I'm sure.\\n we love each other this one, but I think the labels were M.L..\\n you mean this one? Yeah, this'd\\n well, the Queen.\\n It's fun to see, like if you have local on your.\\n yes or no. Maybe look.\\n Yeah.\\n you see that one?\\n before James, right?\\n \\n \\n high like I think I got rid of it or rise. We need to check like that if they makes us and\\n okay?\\n \\n I don't know.\\n e I mean.\\n it's about.\\n but I think you also did some sort of combining I\\n um And then consider that one word, Yeah.\\n \\n just sound none there. Like a state, there was none.\\n no.\\n Is this what you see? Words like that. Uh, I think if you like.\\n \\n start on shorts. Also, I need to be meaning easy short.\\n I didn't.\\n there is a\\n okay?\\n \\n \\n so.\\n \\n guards.\\n \\n Maybe they somehow makes some things I don't know.\\n I really don't like I know so\\n it's just way that district.\\n in terms, of course.\\n sure enough.\\n Mm multi column, right?\\n \\n Okay. See? What do you mean by the nonsense words? Yeah, Um\\n it is like a strolling like.\\n most because I'm\\n familiar with kind of the words.\\n Yeah, well, yeah, I was checking them.\\n anything that this is very obvious.\\n the ones that are kind of here, Unless I mean, I don't know. You see, there's or\\n \\n like a kind of a style, it kind of a marketing words just there.\\n it is marketing, but like it doesn't like employees, a closing style that can be precursors for they're not like that. That's more important.\\n engine.\\n world wars like to Well, I remember like that was kind of\\n Oh, where where they\\n I don't say.\\n at him. The word him is kind of like a fashion style. That those things you need to Scougall it, Um, and months to Google, you say, Like, go like him. Meaning closing. Then you're going to see\\n \\n e ever tried this awesome?\\n so I feel.\\n I figured out what?\\n that threshold that we're talking about. So initially I had it. But once I do recall based on based on matrix of accuracy, it doesn't show up, it'll still here.\\n but I find it somewhat enable Yeah, so this is actually, if beta is your precision and recall and it's before it's before going to the activation layer itself.\\n Plotly that you're getting on.\\n your purpose here for almost. You have to get a sigmoid off that on. That would be your actual accuracy. That's that's what it is. But again, So here what I did.\\n and I defined.\\n I trained the model for.\\n \\n But this I did the three o'clock of training before unfreezing. So models freeze frozen three. Um, yes, I would just\\n on what else?\\n after those talks, I think maybe I did, for I don't remember what? Whatever this was, baby do 3 to 5 blocks before unfreezing the model. And after I, uh I am Freeze it here. I would do just a learning that rate to find it. Maybe that's why you're learning that just kind of finding because you didn't do any training.\\n uh\\n I think I changed that. But anyways, like whatever learning rate I get here, it took me a while to get this. It takes, like, 40 minutes with me to show up the suggests that learning\\n Um, but then when you do monitor accuracy for my label, when it shows up, it was actually accessing our accuracy.\\n Yeah, I think maybe maybe it's a robotic arm A.B..\\n um, ocracy You get that? What would be your riel likeness?\\n \\n \\n which is sick. Want that? That's what it is. Um, so this is the if beta ritual.\\n but when it with accuracy threshold getting is before.\\n Oh, that's what it means, like\\n sir.\\n Um, yeah, that's right. So I want to just to do Do you want me to run your\\n I could just running.\\n Roman.\\n because that's one of those rare You're just\\n filed with those.\\n Maybe Maybe I can help you with.\\n be helpful.\\n you're\\n \\n change the split.\\n \\n Um, And what data?\\n \\n level 50.\\n maybe share those with me. Yeah, I'll see how it is because I do want us check out before unfreezing. I could see a good\\n no, before that, okay?\\n Yeah, that would be very, very helpful. Because no, that's I think that's a lot for Docker on hospital. Do you suggest?\\n her cost to start. Maybe you're doing it on the sea juice. Like because I think Simon's that work with the heavy to start with. And they need to be Lord of Explanation. Aladdin. What do you need help with? Like the Terrible said the separation I think I am a human can help with Daryanani is gonna become under which all this is your property. That would be amazing because triple it said he actually doing a lot of data and way behind. Yeah, I remember he said, like\\n for shoes. But I think like you in the first, like focusing. I could just get that done. Yeah, that That's why I asked her Like I think maybe it would be really to start on handbags and other would be clearly to start on shoes or watches. Yeah, because it's still going through those notebooks and create them. It's gonna take some time, like maybe weaken. Just, like create. Ah, generals V.S. being with you all those and then ah, each person like it creates I call Bo are limited building a triple set for probably you mean like splitting.\\n exception of whatever deceives he find. Two for different people to triple its at that. Yeah, exactly. So we have a, like, big kind of euros. I think it's good to put just all the yard together and then redistribute it to make sure, like, 00 stuff at first, Like a we find your girls like enough euros. I think the plan was 60 right? And the and the relevant, like, quarterly words. Once we make sure that they're, like in place for the CSU file, then like, each person can stay care off like a maybe 20 or like, 30. If you're not working on it like then Monica and you can take it off. So I will happen. I want it is actually finding, um all right, I will switch whatever assigned demonic to both Monica and profound. And then once, that's productive Way probably all do triple. It said maybe. Oh, ask them to do triple. That would make sense. Yeah, but I thought like, um, I was looking at their like soul. She ate. We already had, uh you autos, right? Well, not all of them. Right. So we have all these attributes of\\n um\\n they, uh\\n a combination of the\\n Well, these ones that I had done, I didn't get a triple. It's that you have, so maybe.\\n you were here.\\n people says that I got the still need more work because you can just create more out off them. You see what I mean? Like a So we are doing, like to plenty.\\n they're exactly so. You see, there is a similar chance to create more, depending on how many.\\n \\n No, I think, yes.\\n \\n here. You see that? I'm a specified number of tables That that means like, oh, for each court am as you're getting any majors back. Yeah. Then you're going to choose out of those terry maters to create, like, the positive.\\n Yeah. So many, I think.\\n ritual to be maybe 10 to 20 and then\\n at least five at least five.\\n Yeah, but the thing is that I'm not sure if you can always get five or not something.\\n he's looking 15.\\n exactly, but just like we with that once he created widgets you need to make\\n I think, and also handle it sometimes because I like it a lot of images, right?\\n \\n grab. Okay. I will look into this. Yeah. Okay. With the sign for posh to rest.\\n Yeah, if you could explain them with\\n great. So I want to be there.\\n Thank you. I\\n\"]"
            ]
          },
          "metadata": {
            "tags": []
          },
          "execution_count": 13
        }
      ]
    },
    {
      "cell_type": "code",
      "metadata": {
        "id": "4GYb8yjNrRzt",
        "colab_type": "code",
        "colab": {}
      },
      "source": [
        "from sklearn.metrics.pairwise import cosine_similarity\n",
        "import networkx as nx"
      ],
      "execution_count": 14,
      "outputs": []
    },
    {
      "cell_type": "code",
      "metadata": {
        "id": "qeykT7MdhxiQ",
        "colab_type": "code",
        "colab": {
          "base_uri": "https://localhost:8080/",
          "height": 187
        },
        "outputId": "d5284962-63a7-47eb-a43e-ce7cd0ba476b"
      },
      "source": [
        "  doc=dict_req[1]\n",
        "  sentences=[]\n",
        "  sentences.append(sent_tokenize(doc))\n",
        "  sentences = [y for x in sentences for y in x]\n",
        "  sentences = pd.Series(sentences).str.replace(\"[^a-zA-Z]\", \" \")\n",
        "  # make alphabets lowercase\n",
        "  sentences = [s.lower() for s in sentences]\n",
        "  # remove stopwords from the sentences\n",
        "  sentences = [remove_stopwords(r.split()) for r in sentences]\n",
        "  sentence_vectors = []\n",
        "  for i in sentences:\n",
        "    if len(i) != 0:\n",
        "      v = sum([word_embeddings.get(w, np.zeros((100,))) for w in i.split()])/(len(i.split())+0.001)\n",
        "    else:\n",
        "      v = np.zeros((100,))\n",
        "    sentence_vectors.append(v)\n",
        "  # similarity matrix\n",
        "  sim_mat = np.zeros([len(sentences), len(sentences)])\n",
        "  for i in range(len(sentences)):\n",
        "    for j in range(len(sentences)):\n",
        "      if i != j:\n",
        "        sim_mat[i][j] = cosine_similarity(sentence_vectors[i].reshape(1,100), sentence_vectors[j].reshape(1,100))[0,0]\n",
        "  nx_graph = nx.from_numpy_array(sim_mat)\n",
        "  scores = nx.pagerank(nx_graph)\n",
        "  ranked_sentences = sorted(((scores[i],s) for i,s in enumerate(sentences)), reverse=True)\n",
        "  for k in range(10):\n",
        "    print(ranked_sentences[k][1])\n"
      ],
      "execution_count": 15,
      "outputs": [
        {
          "output_type": "stream",
          "text": [
            "always get five something\n",
            "whatever official get enough predicted ones validated ones see\n",
            "looking culture specific date back anything else\n",
            "oh still still show something close\n",
            "know anything available could make comments fashion purposes\n",
            "see chance depending many\n",
            "improvements charity something know might get oh\n",
            "people says got still need\n",
            "know reverse treated see find north\n",
            "adding part whatever similarity get way ones specifically colors terms material\n"
          ],
          "name": "stdout"
        }
      ]
    },
    {
      "cell_type": "code",
      "metadata": {
        "id": "eGazfzZ-qyIe",
        "colab_type": "code",
        "colab": {}
      },
      "source": [
        ""
      ],
      "execution_count": null,
      "outputs": []
    }
  ]
}